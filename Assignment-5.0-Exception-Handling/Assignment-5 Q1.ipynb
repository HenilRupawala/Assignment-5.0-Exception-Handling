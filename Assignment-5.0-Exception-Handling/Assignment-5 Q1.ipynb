{
 "cells": [
  {
   "cell_type": "code",
   "execution_count": 1,
   "id": "0af1d992-f85b-4f44-bf0f-69c0bca4b839",
   "metadata": {},
   "outputs": [],
   "source": [
    "# Q1. What is an Exception in python? Write the difference between Exceptions and Syntax errors."
   ]
  },
  {
   "cell_type": "markdown",
   "id": "2415d681-1a34-4bd4-beb6-2ae1a625227b",
   "metadata": {},
   "source": [
    "In Python, an exception is an event that occurs during the execution of a program, which disrupts the normal flow of the program's instructions. When an exceptional situation arises, an exception object is created and raised, causing the program to terminate if not properly handled.\n",
    "\n",
    "Exceptions are primarily used for error handling and are categorized into different types, such as ValueError, TypeError, FileNotFoundError, etc. These types represent specific exceptional conditions that can occur while executing Python code."
   ]
  },
  {
   "cell_type": "code",
   "execution_count": 2,
   "id": "ec54ca7c-1cf4-4c83-9ccd-01db5bb9a0af",
   "metadata": {},
   "outputs": [],
   "source": [
    "# difference between Exceptions and Syntax errors."
   ]
  },
  {
   "cell_type": "markdown",
   "id": "5f5039e7-2eac-4895-9d63-1aac1b4fb6d0",
   "metadata": {},
   "source": [
    "#### Syntax Errors:\n",
    "\n",
    "Syntax errors, also known as parsing errors, occur when the Python interpreter encounters invalid code syntax.\n",
    "\n",
    "These errors are detected by the interpreter during the parsing phase, before the program is executed.\n",
    "\n",
    "Syntax errors indicate that the code violates the language's grammar rules and cannot be compiled or executed.\n",
    "\n",
    "Examples of syntax errors include missing colons, mismatched parentheses, misspelled keywords, etc."
   ]
  },
  {
   "cell_type": "markdown",
   "id": "6ba6042a-58df-4016-a2b9-edae13be20d5",
   "metadata": {},
   "source": [
    "#### Exceptions:\n",
    "\n",
    "Exceptions, on the other hand, occur during the execution of a program, after it has been successfully parsed and is being run.\n",
    "\n",
    "Exceptions are raised when an exceptional or erroneous condition arises while executing a statement or a block of code.\n",
    "\n",
    "They can be caused by various factors, such as invalid user input, unexpected behavior, file-related issues, network errors, and more.\n",
    "\n",
    "Exceptions can be handled using try-except blocks, allowing the program to gracefully respond to exceptional situations and prevent abrupt termination.\n",
    "\n",
    "Examples of exceptions include ZeroDivisionError, FileNotFoundError, IndexError, ValueError, etc."
   ]
  }
 ],
 "metadata": {
  "kernelspec": {
   "display_name": "Python 3 (ipykernel)",
   "language": "python",
   "name": "python3"
  },
  "language_info": {
   "codemirror_mode": {
    "name": "ipython",
    "version": 3
   },
   "file_extension": ".py",
   "mimetype": "text/x-python",
   "name": "python",
   "nbconvert_exporter": "python",
   "pygments_lexer": "ipython3",
   "version": "3.10.8"
  }
 },
 "nbformat": 4,
 "nbformat_minor": 5
}
