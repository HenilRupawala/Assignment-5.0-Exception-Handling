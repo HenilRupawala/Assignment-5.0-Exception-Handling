{
 "cells": [
  {
   "cell_type": "markdown",
   "id": "8c8a8220-058f-4b8f-af78-e62e6e9ea785",
   "metadata": {},
   "source": [
    "Q4. Explain with an example:\n",
    "\n",
    "1. try and else \n",
    "2. finally \n",
    "3. raise "
   ]
  },
  {
   "cell_type": "markdown",
   "id": "36feeacd-c93d-427a-b5c6-bf37e53e4783",
   "metadata": {},
   "source": [
    "**1. try and else:** Certainly! The try and else statements in Python are used together to define a block of code that should be executed if no exceptions occur within the preceding try block. The else block is optional and follows the except block(s).\n",
    "\n",
    "    Here's an example that demonstrates the usage of try and else together:"
   ]
  },
  {
   "cell_type": "code",
   "execution_count": 2,
   "id": "8bade281-68c2-4d23-be57-caf6194d9518",
   "metadata": {},
   "outputs": [
    {
     "name": "stdin",
     "output_type": "stream",
     "text": [
      "Enter a number:  23\n",
      "Enter another number:  12\n"
     ]
    },
    {
     "name": "stdout",
     "output_type": "stream",
     "text": [
      "The division result is: 1.9166666666666667\n"
     ]
    }
   ],
   "source": [
    "try:\n",
    "    num1 = int(input(\"Enter a number: \"))\n",
    "    num2 = int(input(\"Enter another number: \"))\n",
    "    result = num1 / num2\n",
    "except ValueError:\n",
    "    print(\"Invalid input. Please enter valid numbers.\")\n",
    "except ZeroDivisionError:\n",
    "    print(\"Cannot divide by zero.\")\n",
    "else:\n",
    "    print(\"The division result is:\", result)"
   ]
  },
  {
   "cell_type": "markdown",
   "id": "9bee126e-587e-4e13-96b2-c44a64772185",
   "metadata": {},
   "source": [
    "**2. finally:** Certainly! The finally block in Python exception handling is used to define a section of code that should always be executed, regardless of whether an exception occurred or not. The finally block is optional and comes after the try and except blocks.\n",
    "\n",
    "    Here's a simple text example to illustrate the usage of finally:"
   ]
  },
  {
   "cell_type": "code",
   "execution_count": 6,
   "id": "e0f4cf47-7b2d-4985-9334-acd13ec96621",
   "metadata": {},
   "outputs": [
    {
     "name": "stdout",
     "output_type": "stream",
     "text": [
      "I am Henil Rupawala from Data Science Masterclass 2.0 Hinglish Batch.\n",
      "File closed.\n"
     ]
    }
   ],
   "source": [
    "try:\n",
    "    file = open(\"example.txt\", \"r\")\n",
    "    content = file.read()\n",
    "    print(content)\n",
    "except FileNotFoundError:\n",
    "    print(\"File not found.\")\n",
    "finally:\n",
    "    file.close()\n",
    "    print(\"File closed.\")"
   ]
  },
  {
   "cell_type": "markdown",
   "id": "90741d02-fbc3-4974-9ef6-df763a9e688c",
   "metadata": {},
   "source": [
    "**3. raise:** Certainly! The raise keyword in Python exception handling is used to explicitly raise an exception. It allows you to create and raise your own exceptions or re-raise an existing exception.\n",
    "\n",
    "    Here's a simple text example to illustrate the usage of raise:"
   ]
  },
  {
   "cell_type": "code",
   "execution_count": 7,
   "id": "06fa8a54-5fe7-4277-8069-f3b770a6939a",
   "metadata": {},
   "outputs": [
    {
     "name": "stdout",
     "output_type": "stream",
     "text": [
      "Error: Cannot calculate square root of a negative number.\n"
     ]
    }
   ],
   "source": [
    "def calculate_square_root(num):\n",
    "    if num < 0:\n",
    "        raise ValueError(\"Cannot calculate square root of a negative number.\")\n",
    "    else:\n",
    "        return num ** 0.5\n",
    "\n",
    "try:\n",
    "    result = calculate_square_root(-9)\n",
    "    print(\"Square root:\", result)\n",
    "except ValueError as e:\n",
    "    print(\"Error:\", str(e))"
   ]
  }
 ],
 "metadata": {
  "kernelspec": {
   "display_name": "Python 3 (ipykernel)",
   "language": "python",
   "name": "python3"
  },
  "language_info": {
   "codemirror_mode": {
    "name": "ipython",
    "version": 3
   },
   "file_extension": ".py",
   "mimetype": "text/x-python",
   "name": "python",
   "nbconvert_exporter": "python",
   "pygments_lexer": "ipython3",
   "version": "3.10.8"
  }
 },
 "nbformat": 4,
 "nbformat_minor": 5
}
