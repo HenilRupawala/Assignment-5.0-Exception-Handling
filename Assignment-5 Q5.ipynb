{
 "cells": [
  {
   "cell_type": "code",
   "execution_count": 2,
   "id": "6909beee-b6ec-469a-b926-92e50e10fb7a",
   "metadata": {},
   "outputs": [],
   "source": [
    "# Q5. What are Custom Exceptions in python? Why do we need Custom Exceptions? Explain with an example."
   ]
  },
  {
   "cell_type": "markdown",
   "id": "45f6f7f1-e971-4355-a58e-aae0b6d8a6b0",
   "metadata": {},
   "source": [
    "In Python, custom exceptions are user-defined exceptions that extend the built-in exception classes or the Exception base class. They allow you to create your own specialized exceptions to handle specific errors or exceptional situations in your code.\n",
    "\n",
    "### Custom exceptions are useful for the following reasons:\n",
    "\n",
    "**Improved Code Readability:** By defining custom exceptions, you can give meaningful names to the exceptions that reflect the specific error or exceptional condition. This makes your code more readable and helps others understand the purpose of the exception.\n",
    "\n",
    "**Granular Error Handling:** Custom exceptions allow you to catch and handle specific types of errors separately. You can have different except blocks for different custom exceptions, allowing you to handle each exception type in a specific and appropriate manner.\n",
    "\n",
    "**Modularity and Reusability:** Custom exceptions promote modularity and reusability in your code. You can define a custom exception once and reuse it across multiple parts of your codebase or in different projects.\n",
    "\n",
    "Here's an example that demonstrates the creation and usage of a custom exception in Python:"
   ]
  },
  {
   "cell_type": "code",
   "execution_count": 4,
   "id": "8c524f0c-a015-48dc-a790-2f7bde73d323",
   "metadata": {},
   "outputs": [
    {
     "name": "stdout",
     "output_type": "stream",
     "text": [
      "Error: Insufficient funds in the account.\n"
     ]
    }
   ],
   "source": [
    "class InsufficientFundsError(Exception):\n",
    "    pass\n",
    "\n",
    "class BankAccount:\n",
    "    def __init__(self, balance):\n",
    "        self.balance = balance\n",
    "\n",
    "    def withdraw(self, amount):\n",
    "        if amount > self.balance:\n",
    "            raise InsufficientFundsError(\"Insufficient funds in the account.\")\n",
    "        else:\n",
    "            self.balance -= amount\n",
    "            print(\"Amount withdrawn:\", amount)\n",
    "\n",
    "account = BankAccount(100)\n",
    "try:\n",
    "    account.withdraw(200)\n",
    "except InsufficientFundsError as e:\n",
    "    print(\"Error:\", str(e))"
   ]
  }
 ],
 "metadata": {
  "kernelspec": {
   "display_name": "Python 3 (ipykernel)",
   "language": "python",
   "name": "python3"
  },
  "language_info": {
   "codemirror_mode": {
    "name": "ipython",
    "version": 3
   },
   "file_extension": ".py",
   "mimetype": "text/x-python",
   "name": "python",
   "nbconvert_exporter": "python",
   "pygments_lexer": "ipython3",
   "version": "3.10.8"
  }
 },
 "nbformat": 4,
 "nbformat_minor": 5
}
