{
 "cells": [
  {
   "cell_type": "code",
   "execution_count": 1,
   "id": "a654ae12-bdee-4a76-b7c1-f1b918a945a7",
   "metadata": {},
   "outputs": [],
   "source": [
    "# Q6. Create a custom exception class. Use this class to handle an exception."
   ]
  },
  {
   "cell_type": "markdown",
   "id": "f2158e62-3898-42c3-8ebc-09fdaa90fa4d",
   "metadata": {},
   "source": [
    "#### Certainly! Here's an example of creating a custom exception class and using it to handle an exception:"
   ]
  },
  {
   "cell_type": "code",
   "execution_count": 3,
   "id": "f35c94c6-6657-48ec-82f5-01e9d71f90c4",
   "metadata": {},
   "outputs": [
    {
     "name": "stdout",
     "output_type": "stream",
     "text": [
      "Error: Negative numbers not allowed: -8\n"
     ]
    }
   ],
   "source": [
    "class NegativeNumberError(Exception):\n",
    "    def __init__(self, number):\n",
    "        self.number = number\n",
    "        super().__init__(f\"Negative numbers not allowed: {number}\")\n",
    "\n",
    "\n",
    "def calculate_square_root(num):\n",
    "    if num < 0:\n",
    "        raise NegativeNumberError(num)\n",
    "    else:\n",
    "        return num ** 0.5\n",
    "\n",
    "\n",
    "try:\n",
    "    result = calculate_square_root(-8)\n",
    "    print(\"Square root:\", result)\n",
    "except NegativeNumberError as e:\n",
    "    print(\"Error:\", str(e))"
   ]
  }
 ],
 "metadata": {
  "kernelspec": {
   "display_name": "Python 3 (ipykernel)",
   "language": "python",
   "name": "python3"
  },
  "language_info": {
   "codemirror_mode": {
    "name": "ipython",
    "version": 3
   },
   "file_extension": ".py",
   "mimetype": "text/x-python",
   "name": "python",
   "nbconvert_exporter": "python",
   "pygments_lexer": "ipython3",
   "version": "3.10.8"
  }
 },
 "nbformat": 4,
 "nbformat_minor": 5
}
